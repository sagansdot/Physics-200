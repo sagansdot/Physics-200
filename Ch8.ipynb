{
 "metadata": {
  "name": "Ch8"
 }, 
 "nbformat": 2, 
 "worksheets": [
  {
   "cells": [
    {
     "cell_type": "code", 
     "collapsed": false, 
     "input": [
      "fruit = 'banana'", 
      "", 
      "index = len(fruit)-1", 
      "while index >= 0:", 
      "    letter = fruit[index]", 
      "    print letter", 
      "    index = index - 1"
     ], 
     "language": "python", 
     "outputs": [], 
     "prompt_number": 6
    }, 
    {
     "cell_type": "code", 
     "collapsed": false, 
     "input": [
      "prefixes = 'JKLMNOPQ'", 
      "suffix = 'ack'", 
      "for letter in prefixes:", 
      "    if letter == 'O':", 
      "       print letter + 'u' + suffix", 
      "    elif letter == 'Q':", 
      "       print letter + 'u' + suffix", 
      "    else: ", 
      "       print letter + suffix"
     ], 
     "language": "python", 
     "outputs": [
      {
       "output_type": "stream", 
       "stream": "stdout", 
       "text": [
        "Jack", 
        "Kack", 
        "Lack", 
        "Mack", 
        "Nack", 
        "Ouack", 
        "Pack", 
        "Quack"
       ]
      }
     ], 
     "prompt_number": 22
    }, 
    {
     "cell_type": "code", 
     "collapsed": true, 
     "input": [
      "def find(word, letter, expect):", 
      "    index = expect", 
      "    while index < len(word):", 
      "        if word[index] == letter:", 
      "            return index", 
      "        index = index + 1", 
      "    return -1"
     ], 
     "language": "python", 
     "outputs": [], 
     "prompt_number": 24
    }, 
    {
     "cell_type": "code", 
     "collapsed": false, 
     "input": [
      "find('fruit', 'u', 2)"
     ], 
     "language": "python", 
     "outputs": [
      {
       "output_type": "pyout", 
       "prompt_number": 26, 
       "text": [
        "2"
       ]
      }
     ], 
     "prompt_number": 26
    }, 
    {
     "cell_type": "code", 
     "collapsed": true, 
     "input": [
      "def count(word, search):", 
      "    count = 0", 
      "    for letter in word:", 
      "        if letter == search:", 
      "            count = count + 1", 
      "    print count"
     ], 
     "language": "python", 
     "outputs": [], 
     "prompt_number": 27
    }, 
    {
     "cell_type": "code", 
     "collapsed": false, 
     "input": [
      "count('banana', 'b')"
     ], 
     "language": "python", 
     "outputs": [
      {
       "output_type": "stream", 
       "stream": "stdout", 
       "text": [
        "1"
       ]
      }
     ], 
     "prompt_number": 29
    }, 
    {
     "cell_type": "code", 
     "collapsed": true, 
     "input": [
      "def count2(word, letter, expect):", 
      "    index = expect", 
      "    count = expect", 
      "    while index < len(word):", 
      "        if word[index] == letter:", 
      "            count = count + 1", 
      "        index = index + 1", 
      "    print count"
     ], 
     "language": "python", 
     "outputs": [], 
     "prompt_number": 57
    }, 
    {
     "cell_type": "code", 
     "collapsed": false, 
     "input": [
      "count2('banana', 'a', 0)"
     ], 
     "language": "python", 
     "outputs": [
      {
       "output_type": "stream", 
       "stream": "stdout", 
       "text": [
        "3"
       ]
      }
     ], 
     "prompt_number": 58
    }, 
    {
     "cell_type": "code", 
     "collapsed": true, 
     "input": [
      "def is_palindrome(word):", 
      "    if word[:] == word[::-1]:", 
      "        print 'yes'"
     ], 
     "language": "python", 
     "outputs": [], 
     "prompt_number": 72
    }, 
    {
     "cell_type": "code", 
     "collapsed": false, 
     "input": [
      "is_palindrome('atta')"
     ], 
     "language": "python", 
     "outputs": [
      {
       "output_type": "stream", 
       "stream": "stdout", 
       "text": [
        "yes"
       ]
      }
     ], 
     "prompt_number": 73
    }, 
    {
     "cell_type": "code", 
     "collapsed": true, 
     "input": [], 
     "language": "python", 
     "outputs": [], 
     "prompt_number": "&nbsp;"
    }
   ]
  }
 ]
}