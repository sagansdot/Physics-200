{
 "metadata": {
  "name": "Chapter18"
 }, 
 "nbformat": 2, 
 "worksheets": [
  {
   "cells": [
    {
     "cell_type": "code", 
     "collapsed": true, 
     "input": [
      "class Time(object):", 
      "    \"\"\"represents the time of day.", 
      "    attributes: hour, minute, second\"\"\"", 
      "    def time_to_int(self):", 
      "        minutes = time.hour * 60 + time.minute", 
      "        seconds = minutes * 60 + time.second", 
      "        return seconds", 
      "    ", 
      "    def __cmp__(self, other):", 
      "        t1 = time_to_int(self)", 
      "        t2 = time_to_int(other) ", 
      "        return cmp(t1, t2)"
     ], 
     "language": "python", 
     "outputs": [], 
     "prompt_number": 1
    }, 
    {
     "cell_type": "code", 
     "collapsed": true, 
     "input": [], 
     "language": "python", 
     "outputs": [], 
     "prompt_number": "&nbsp;"
    }
   ]
  }
 ]
}