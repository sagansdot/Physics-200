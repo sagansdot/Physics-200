{
 "metadata": {
  "name": "Chapter17"
 }, 
 "nbformat": 2, 
 "worksheets": [
  {
   "cells": [
    {
     "cell_type": "code", 
     "collapsed": true, 
     "input": [
      "class Time(object):", 
      "    \"\"\"represents the time of day.", 
      "    attributes: hour, minute, second\"\"\"", 
      "    def time_to_int(self):", 
      "        minutes = time.hour * 60 + time.minute", 
      "        seconds = minutes * 60 + time.second", 
      "        return seconds", 
      ""
     ], 
     "language": "python", 
     "outputs": [], 
     "prompt_number": 2
    }, 
    {
     "cell_type": "code", 
     "collapsed": false, 
     "input": [
      "class Point(object):", 
      "    \"\"\"represents a point in 2-D space\"\"\"", 
      "    def __init__(self, x=0, y=0):", 
      "        self.x = hour", 
      "        self.y = minute", 
      "    def __str__(self):", 
      "        return '%.2d,%.2d' % (self.x, self.y)", 
      "     ", 
      "    def __add__(self, dx, dy):", 
      "        newx = self.x + dx ", 
      "        newy = self.y + dy ", 
      "       "
     ], 
     "language": "python", 
     "outputs": [], 
     "prompt_number": 8
    }, 
    {
     "cell_type": "code", 
     "collapsed": true, 
     "input": [], 
     "language": "python", 
     "outputs": [], 
     "prompt_number": "&nbsp;"
    }
   ]
  }
 ]
}