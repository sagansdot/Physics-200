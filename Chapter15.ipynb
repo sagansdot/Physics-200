{
 "metadata": {
  "name": "Chapter15"
 }, 
 "nbformat": 2, 
 "worksheets": [
  {
   "cells": [
    {
     "cell_type": "code", 
     "collapsed": false, 
     "input": [
      "class Point(object):", 
      "    \"\"\"represents a point in 2-D space\"\"\""
     ], 
     "language": "python", 
     "outputs": [], 
     "prompt_number": 6
    }, 
    {
     "cell_type": "code", 
     "collapsed": false, 
     "input": [
      "def distance(p1, p2):", 
      "    import math", 
      "    distance = math.sqrt((p2.x - p1.x)**2 + (p2.y - p1.y)**2)", 
      "    return distance"
     ], 
     "language": "python", 
     "outputs": [], 
     "prompt_number": 7
    }, 
    {
     "cell_type": "code", 
     "collapsed": false, 
     "input": [
      "p1 = Point()", 
      "p2 = Point() ", 
      "", 
      "p1.x = 5", 
      "p2.x = 7", 
      "p1.y = 2", 
      "p2.y = 4", 
      "", 
      "distance(p1, p2)"
     ], 
     "language": "python", 
     "outputs": [
      {
       "output_type": "pyout", 
       "prompt_number": 8, 
       "text": [
        "2.8284271247461903"
       ]
      }
     ], 
     "prompt_number": 8
    }, 
    {
     "cell_type": "code", 
     "collapsed": true, 
     "input": [
      "class Rectangle(object):", 
      "    \"\"\"represent a rectangle.", 
      "    attributes: width, height, corner.", 
      "    \"\"\""
     ], 
     "language": "python", 
     "outputs": [], 
     "prompt_number": 9
    }, 
    {
     "cell_type": "code", 
     "collapsed": true, 
     "input": [
      "def move_Rectangle(Rectangle, dx, dy):", 
      "    Rectangle.corner.x = Rectangle.corner.x + dx", 
      "    Rectangle.corner.y = Rectangle.corner.x + dy", 
      "    ", 
      ""
     ], 
     "language": "python", 
     "outputs": [], 
     "prompt_number": 10
    }, 
    {
     "cell_type": "code", 
     "collapsed": true, 
     "input": [
      "box = Rectangle()", 
      "box.width = 100.0", 
      "box.height = 200.0", 
      "box.corner = Point()", 
      "box.corner.x = 0.0", 
      "box.corner.y = 0.0"
     ], 
     "language": "python", 
     "outputs": [], 
     "prompt_number": 11
    }, 
    {
     "cell_type": "code", 
     "collapsed": false, 
     "input": [
      "move_Rectangle(box, 10, 22)"
     ], 
     "language": "python", 
     "outputs": [], 
     "prompt_number": 13
    }, 
    {
     "cell_type": "code", 
     "collapsed": true, 
     "input": [
      "def move_Rectangle2(Rectangle, dx, dy):", 
      "    import copy ", 
      "    copyofbox = copy.copy(Rectangle)", 
      "    copyofbox.corner.x = Rectangle.corner.x + dx", 
      "    copyofbox.corner.y = Rectangle.corner.x + dy"
     ], 
     "language": "python", 
     "outputs": [], 
     "prompt_number": 14
    }, 
    {
     "cell_type": "code", 
     "collapsed": true, 
     "input": [], 
     "language": "python", 
     "outputs": [], 
     "prompt_number": "&nbsp;"
    }
   ]
  }
 ]
}