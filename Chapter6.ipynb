{
 "metadata": {
  "name": "Chapter6"
 }, 
 "nbformat": 2, 
 "worksheets": [
  {
   "cells": [
    {
     "cell_type": "code", 
     "collapsed": true, 
     "input": [
      "def compare_value(x, y):", 
      "    if x>y: ", 
      "        return 1", 
      "    if y>x:", 
      "        return -1", 
      "    if x == y:", 
      "        return 0 ", 
      "    "
     ], 
     "language": "python", 
     "outputs": [], 
     "prompt_number": 19
    }, 
    {
     "cell_type": "code", 
     "collapsed": false, 
     "input": [
      "compare_value(2,3)"
     ], 
     "language": "python", 
     "outputs": [
      {
       "output_type": "pyout", 
       "prompt_number": 20, 
       "text": [
        "-1"
       ]
      }
     ], 
     "prompt_number": 20
    }, 
    {
     "cell_type": "code", 
     "collapsed": true, 
     "input": [
      "import math ", 
      "", 
      "def hypotenuse(a, b):", 
      "    h = a*a + b*b", 
      "    c = math.sqrt(h)", 
      "    return c"
     ], 
     "language": "python", 
     "outputs": [], 
     "prompt_number": 21
    }, 
    {
     "cell_type": "code", 
     "collapsed": false, 
     "input": [
      "hypotenuse(3, 4)"
     ], 
     "language": "python", 
     "outputs": [
      {
       "output_type": "pyout", 
       "prompt_number": 22, 
       "text": [
        "5.0"
       ]
      }
     ], 
     "prompt_number": 22
    }, 
    {
     "cell_type": "code", 
     "collapsed": true, 
     "input": [
      "def Ack(m, n):", 
      "    if m == 0: ", 
      "        A = n + 1", 
      "    if m > 0 & n == 0:", 
      "        A = Ack(m-1, 1)", 
      "    if m > 0 & n > 0:", 
      "        A = Ack(m-1, Ack(m, n-1))", 
      "    return A"
     ], 
     "language": "python", 
     "outputs": [], 
     "prompt_number": 40
    }, 
    {
     "cell_type": "code", 
     "collapsed": false, 
     "input": [
      "Ack(3, 4)"
     ], 
     "language": "python", 
     "outputs": [
      {
       "output_type": "pyout", 
       "prompt_number": 41, 
       "text": [
        "2"
       ]
      }
     ], 
     "prompt_number": 41
    }, 
    {
     "cell_type": "code", 
     "collapsed": true, 
     "input": [
      "def first(word):", 
      "    return word[0]", 
      "def last(word):", 
      "    return word[-1]", 
      "def middle(word):", 
      "    return word[1:-1]"
     ], 
     "language": "python", 
     "outputs": [], 
     "prompt_number": 48
    }, 
    {
     "cell_type": "code", 
     "collapsed": false, 
     "input": [
      "first('type')"
     ], 
     "language": "python", 
     "outputs": [
      {
       "output_type": "pyout", 
       "prompt_number": 45, 
       "text": [
        "&apos;t&apos;"
       ]
      }
     ], 
     "prompt_number": 45
    }, 
    {
     "cell_type": "code", 
     "collapsed": false, 
     "input": [
      "last('type')", 
      "middle('typpeee')"
     ], 
     "language": "python", 
     "outputs": [
      {
       "output_type": "pyout", 
       "prompt_number": 50, 
       "text": [
        "&apos;yppee&apos;"
       ]
      }
     ], 
     "prompt_number": 50
    }, 
    {
     "cell_type": "code", 
     "collapsed": false, 
     "input": [
      "last('type')"
     ], 
     "language": "python", 
     "outputs": [
      {
       "output_type": "pyout", 
       "prompt_number": 47, 
       "text": [
        "&apos;e&apos;"
       ]
      }
     ], 
     "prompt_number": 47
    }, 
    {
     "cell_type": "code", 
     "collapsed": false, 
     "input": [
      "def middle2(word):", 
      "    x = len(word)", 
      "    word2 = middle(word)", 
      "    return word2[::-1]"
     ], 
     "language": "python", 
     "outputs": [], 
     "prompt_number": 65
    }, 
    {
     "cell_type": "code", 
     "collapsed": false, 
     "input": [
      "middle2('type')"
     ], 
     "language": "python", 
     "outputs": [
      {
       "output_type": "pyout", 
       "prompt_number": 66, 
       "text": [
        "&apos;py&apos;"
       ]
      }
     ], 
     "prompt_number": 66
    }, 
    {
     "cell_type": "code", 
     "collapsed": true, 
     "input": [
      "def is_palindrome(word):", 
      "    if first(word) == last(word):", 
      "        if middle(word) == middle2(word):", 
      "            print 'yes'", 
      "            return True ", 
      "        else:", 
      "            print 'no'", 
      "            return False ", 
      "    else: ", 
      "        print 'no'", 
      "        return False", 
      "            "
     ], 
     "language": "python", 
     "outputs": [], 
     "prompt_number": 73
    }, 
    {
     "cell_type": "code", 
     "collapsed": false, 
     "input": [
      "is_palindrome('atta')"
     ], 
     "language": "python", 
     "outputs": [
      {
       "ename": "NameError", 
       "evalue": "global name 'true' is not defined", 
       "output_type": "pyerr", 
       "traceback": [
        "<span class=\"ansired\">---------------------------------------------------------------------------</span>\n<span class=\"ansired\">NameError</span>                                 Traceback (most recent call last)", 
        "<span class=\"ansigreen\">/home/bryan/ipython/Physics-200/&lt;ipython-input-74-3b2c29122b16&gt;</span> in <span class=\"ansicyan\">&lt;module&gt;</span><span class=\"ansiblue\">()</span>\n<span class=\"ansigreen\">----&gt; 1</span><span class=\"ansiyellow\"> </span>is_palindrome<span class=\"ansiyellow\">(</span><span class=\"ansiblue\">&apos;atta&apos;</span><span class=\"ansiyellow\">)</span><span class=\"ansiyellow\"></span>\n", 
        "<span class=\"ansigreen\">/home/bryan/ipython/Physics-200/&lt;ipython-input-73-04b782360ae8&gt;</span> in <span class=\"ansicyan\">is_palindrome</span><span class=\"ansiblue\">(word)</span>\n<span class=\"ansigreen\">      3</span>         <span class=\"ansigreen\">if</span> middle<span class=\"ansiyellow\">(</span>word<span class=\"ansiyellow\">)</span> <span class=\"ansiyellow\">==</span> middle2<span class=\"ansiyellow\">(</span>word<span class=\"ansiyellow\">)</span><span class=\"ansiyellow\">:</span><span class=\"ansiyellow\"></span>\n<span class=\"ansigreen\">      4</span>             <span class=\"ansigreen\">print</span> <span class=\"ansiblue\">&apos;yes&apos;</span><span class=\"ansiyellow\"></span>\n<span class=\"ansigreen\">----&gt; 5</span><span class=\"ansiyellow\">             </span><span class=\"ansigreen\">return</span> true<span class=\"ansiyellow\"></span>\n<span class=\"ansigreen\">      6</span>         <span class=\"ansigreen\">else</span><span class=\"ansiyellow\">:</span><span class=\"ansiyellow\"></span>\n<span class=\"ansigreen\">      7</span>             <span class=\"ansigreen\">print</span> <span class=\"ansiblue\">&apos;no&apos;</span><span class=\"ansiyellow\"></span>\n", 
        "<span class=\"ansired\">NameError</span>: global name &apos;true&apos; is not defined"
       ]
      }, 
      {
       "output_type": "stream", 
       "stream": "stdout", 
       "text": [
        "yes"
       ]
      }
     ], 
     "prompt_number": 74
    }, 
    {
     "cell_type": "code", 
     "collapsed": true, 
     "input": [], 
     "language": "python", 
     "outputs": [], 
     "prompt_number": "&nbsp;"
    }
   ]
  }
 ]
}