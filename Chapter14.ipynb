{
 "metadata": {
  "name": "Chapter14"
 }, 
 "nbformat": 2, 
 "worksheets": [
  {
   "cells": [
    {
     "cell_type": "code", 
     "collapsed": true, 
     "input": [
      "def walk(dir):", 
      "    t = [] ", 
      "    for name in os.listdir(dir):", 
      "        path = os.path.join(dir, name)", 
      "        if os.path.isfile(path):", 
      "            print path", 
      "            t.append(path)", 
      "        else:", 
      "            walk(path)"
     ], 
     "language": "python", 
     "outputs": [], 
     "prompt_number": 1
    }, 
    {
     "cell_type": "code", 
     "collapsed": true, 
     "input": [
      "def walk2(dir):", 
      "    t = [] ", 
      "    n = os.walk(dir)", 
      "    t.append(n)"
     ], 
     "language": "python", 
     "outputs": [], 
     "prompt_number": 3
    }, 
    {
     "cell_type": "code", 
     "collapsed": false, 
     "input": [
      "import urllib", 
      "conn = urllib.urlopen('http://thinkpython.com/secret.html')", 
      "for line in conn.fp:", 
      "    print line.strip()"
     ], 
     "language": "python", 
     "outputs": [
      {
       "output_type": "stream", 
       "stream": "stdout", 
       "text": [
        "&lt;title&gt;Secret exercise&lt;/title&gt;", 
        "", 
        "&lt;h1&gt;Secret Think Python Exercise&lt;/h3&gt;", 
        "", 
        "&lt;p&gt;", 
        "If you are reading this, you are probably working on the urllib", 
        "exercise from Think Python.", 
        "", 
        "&lt;p&gt;", 
        "Next, you should read the documentation of the urllib module at", 
        "http://docs.python.org/lib/module-urllib.html", 
        "", 
        "&lt;p&gt;", 
        "Then go to www.uszip.com, which provides information about every zip code", 
        "in the country.  For example, the URL", 
        "", 
        "&lt;p&gt;", 
        "http://www.uszip.com/zip/02492", 
        "", 
        "&lt;p&gt;", 
        "provides information about Needham MA, including population, longitude", 
        "and latitude, etc.", 
        "", 
        "&lt;p&gt;", 
        "Write a program that prompts the user for a zip code and prints the", 
        "name and population of the corresponding town.", 
        "", 
        "&lt;p&gt;", 
        "Note: the text you get from uszip.com is in HTML, the language most", 
        "web pages are written in.  Even if you don&apos;t know HTML, you should be", 
        "able to extract the information you are looking for.", 
        "", 
        "&lt;p&gt;", 
        "By the way, your program is an example of a &quot;screen scraper.&quot;  You can", 
        "read more about this term at", 
        "", 
        "&lt;p&gt;", 
        "http://wikipedia.org/wiki/Screen_scraping", 
        "", 
        "&lt;p&gt;", 
        "Sites that make money from advertising don&apos;t like screen scrapers", 
        "because they don&apos;t display the ads.  Using a screen scraper violates", 
        "the terms of service for some sites; that&apos;s why this is a secret", 
        "exercise!", 
        "", 
        "&lt;script type=&quot;text/javascript&quot;&gt;", 
        "var gaJsHost = ((&quot;https:&quot; == document.location.protocol) ? &quot;https://ssl.&quot; : &quot;http://www.&quot;);", 
        "document.write(unescape(&quot;%3Cscript src=&apos;&quot; + gaJsHost + &quot;google-analytics.com/ga.js&apos; type=&apos;text/javascript&apos;%3E%3C/script%3E&quot;));", 
        "&lt;/script&gt;", 
        "&lt;script type=&quot;text/javascript&quot;&gt;", 
        "try {", 
        "var pageTracker = _gat._getTracker(&quot;UA-9267613-1&quot;);", 
        "pageTracker._trackPageview();", 
        "} catch(err) {}&lt;/script&gt;", 
        "", 
        "&lt;/body&gt;"
       ]
      }
     ], 
     "prompt_number": 4
    }, 
    {
     "cell_type": "code", 
     "collapsed": true, 
     "input": [], 
     "language": "python", 
     "outputs": [], 
     "prompt_number": "&nbsp;"
    }
   ]
  }
 ]
}