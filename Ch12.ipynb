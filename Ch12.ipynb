{
 "metadata": {
  "name": "Chapter12 "
 }, 
 "nbformat": 2, 
 "worksheets": [
  {
   "cells": [
    {
     "cell_type": "code", 
     "collapsed": true, 
     "input": [
      "def sumall(*args):", 
      "    A = sum(args)", 
      "    return A"
     ], 
     "language": "python", 
     "outputs": [], 
     "prompt_number": 3
    }, 
    {
     "cell_type": "code", 
     "collapsed": false, 
     "input": [
      "sumall(2, 3, 4, 5)"
     ], 
     "language": "python", 
     "outputs": [
      {
       "output_type": "pyout", 
       "prompt_number": 4, 
       "text": [
        "14"
       ]
      }
     ], 
     "prompt_number": 4
    }, 
    {
     "cell_type": "code", 
     "collapsed": false, 
     "input": [
      "import random", 
      "", 
      "def sort_by_length(*words):", 
      "    t = []", 
      "    for word in words:", 
      "        t.append((len(word), random.random(), word))", 
      "    ", 
      "    t.sort(reverse = True)", 
      "    ", 
      "    res = []", 
      "    for length, x, word in t:", 
      "        res.append(word)", 
      "    return res"
     ], 
     "language": "python", 
     "outputs": [], 
     "prompt_number": 31
    }, 
    {
     "cell_type": "code", 
     "collapsed": false, 
     "input": [
      "sort_by_length('Anne', 'Elk')"
     ], 
     "language": "python", 
     "outputs": [
      {
       "output_type": "pyout", 
       "prompt_number": 35, 
       "text": [
        "[&apos;Anne&apos;, &apos;Elk&apos;]"
       ]
      }
     ], 
     "prompt_number": 35
    }, 
    {
     "cell_type": "code", 
     "collapsed": true, 
     "input": [
      "def most_frequent(string):", 
      "    dic = dict(string) ", 
      "    print dic"
     ], 
     "language": "python", 
     "outputs": [], 
     "prompt_number": 36
    }, 
    {
     "cell_type": "code", 
     "collapsed": true, 
     "input": [], 
     "language": "python", 
     "outputs": [], 
     "prompt_number": "&nbsp;"
    }
   ]
  }
 ]
}