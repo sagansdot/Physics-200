{
 "metadata": {
  "name": "Chapter16"
 }, 
 "nbformat": 2, 
 "worksheets": [
  {
   "cells": [
    {
     "cell_type": "code", 
     "collapsed": true, 
     "input": [
      "class Time(object):", 
      "    \"\"\"represents the time of day.", 
      "    attributes: hour, minute, second\"\"\""
     ], 
     "language": "python", 
     "outputs": [], 
     "prompt_number": 1
    }, 
    {
     "cell_type": "code", 
     "collapsed": true, 
     "input": [
      "time = Time()", 
      "time.hour = 11", 
      "time.minute = 59", 
      "time.second = 30"
     ], 
     "language": "python", 
     "outputs": [], 
     "prompt_number": 2
    }, 
    {
     "cell_type": "code", 
     "collapsed": true, 
     "input": [
      "def print_time(time):", 
      "    print time.hour,", 
      "    print ':',", 
      "    print time.minute,", 
      "    print ':',", 
      "    print time.second"
     ], 
     "language": "python", 
     "outputs": [], 
     "prompt_number": 16
    }, 
    {
     "cell_type": "code", 
     "collapsed": false, 
     "input": [
      "print_time(time) "
     ], 
     "language": "python", 
     "outputs": [
      {
       "output_type": "stream", 
       "stream": "stdout", 
       "text": [
        "11 : 59 : 30"
       ]
      }
     ], 
     "prompt_number": 17
    }, 
    {
     "cell_type": "code", 
     "collapsed": false, 
     "input": [
      "def is_after(time1, time2):", 
      "    if time1.hour > time2.hour:", 
      "        return True ", 
      "    if time1.hour == time2.hour:", 
      "        if time1.minute > time2.minute:", 
      "            return True ", 
      "        if time1.minute == time2.minute: ", 
      "            if time1.second > time2.second:", 
      "                return True ", 
      "    else:", 
      "        return False"
     ], 
     "language": "python", 
     "outputs": [], 
     "prompt_number": 31
    }, 
    {
     "cell_type": "code", 
     "collapsed": true, 
     "input": [
      "time1 = Time()", 
      "time1.hour = 11", 
      "time1.minute = 59", 
      "time1.second = 30"
     ], 
     "language": "python", 
     "outputs": [], 
     "prompt_number": 32
    }, 
    {
     "cell_type": "code", 
     "collapsed": true, 
     "input": [
      "time2 = Time()", 
      "time2.hour = 11", 
      "time2.minute = 59", 
      "time2.second = 31"
     ], 
     "language": "python", 
     "outputs": [], 
     "prompt_number": 33
    }, 
    {
     "cell_type": "code", 
     "collapsed": true, 
     "input": [
      "A = is_after(time1, time2)"
     ], 
     "language": "python", 
     "outputs": [], 
     "prompt_number": 34
    }, 
    {
     "cell_type": "code", 
     "collapsed": false, 
     "input": [
      "def increment(time, seconds):", 
      "    time = copy.copy(time) ", 
      "    time.second += seconds", 
      "    while time.second >= 60:", 
      "        time.second -= 60", 
      "        time.minute += 1", 
      "    while time.minute >= 60:", 
      "        time.minute -= 60", 
      "        time.hour += 1"
     ], 
     "language": "python", 
     "outputs": [], 
     "prompt_number": 50
    }, 
    {
     "cell_type": "code", 
     "collapsed": true, 
     "input": [
      "increment(time1, 120) "
     ], 
     "language": "python", 
     "outputs": [], 
     "prompt_number": 45
    }, 
    {
     "cell_type": "code", 
     "collapsed": false, 
     "input": [
      "print time1.hour"
     ], 
     "language": "python", 
     "outputs": [
      {
       "output_type": "stream", 
       "stream": "stdout", 
       "text": [
        "12"
       ]
      }
     ], 
     "prompt_number": 46
    }, 
    {
     "cell_type": "code", 
     "collapsed": false, 
     "input": [
      "print_time(time1) "
     ], 
     "language": "python", 
     "outputs": [
      {
       "output_type": "stream", 
       "stream": "stdout", 
       "text": [
        "12 : 2 : 10"
       ]
      }
     ], 
     "prompt_number": 47
    }, 
    {
     "cell_type": "code", 
     "collapsed": true, 
     "input": [
      "def increment2(time, seconds):", 
      "    import copy", 
      "    timen = copy.copy(time) ", 
      "    timen.second += seconds", 
      "    while time.second >= 60:", 
      "        timen.second -= 60", 
      "        timen.minute += 1", 
      "    while time.minute >= 60:", 
      "        timen.minute -= 60", 
      "        timen.hour += 1"
     ], 
     "language": "python", 
     "outputs": [], 
     "prompt_number": 49
    }, 
    {
     "cell_type": "code", 
     "collapsed": true, 
     "input": [], 
     "language": "python", 
     "outputs": [], 
     "prompt_number": 49
    }, 
    {
     "cell_type": "code", 
     "collapsed": true, 
     "input": [], 
     "language": "python", 
     "outputs": [], 
     "prompt_number": "&nbsp;"
    }
   ]
  }
 ]
}