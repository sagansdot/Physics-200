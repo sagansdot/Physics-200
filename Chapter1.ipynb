{
 "metadata": {
  "name": "Phys200Assignment1.1"
 }, 
 "nbformat": 2, 
 "worksheets": [
  {
   "cells": [
    {
     "cell_type": "code", 
     "collapsed": false, 
     "input": [
      "help()"
     ], 
     "language": "python", 
     "outputs": [
      {
       "ename": "StdinNotImplementedError", 
       "evalue": "raw_input was called, but this frontend does not support stdin.", 
       "output_type": "pyerr", 
       "traceback": [
        "<span class=\"ansired\">---------------------------------------------------------------------------</span>\n<span class=\"ansired\">StdinNotImplementedError</span>                  Traceback (most recent call last)", 
        "<span class=\"ansigreen\">/home/bryan/ipython/&lt;ipython-input-1-39f0db9d7c42&gt;</span> in <span class=\"ansicyan\">&lt;module&gt;</span><span class=\"ansiblue\">()</span>\n<span class=\"ansigreen\">----&gt; 1</span><span class=\"ansiyellow\"> </span>help<span class=\"ansiyellow\">(</span><span class=\"ansiyellow\">)</span><span class=\"ansiyellow\"></span>\n", 
        "<span class=\"ansigreen\">/home/bryan/Downloads/epd-7.2-2-rh3-x86_64/lib/python2.7/site.pyc</span> in <span class=\"ansicyan\">__call__</span><span class=\"ansiblue\">(self, *args, **kwds)</span>\n<span class=\"ansigreen\">    465</span>     <span class=\"ansigreen\">def</span> __call__<span class=\"ansiyellow\">(</span>self<span class=\"ansiyellow\">,</span> <span class=\"ansiyellow\">*</span>args<span class=\"ansiyellow\">,</span> <span class=\"ansiyellow\">**</span>kwds<span class=\"ansiyellow\">)</span><span class=\"ansiyellow\">:</span><span class=\"ansiyellow\"></span>\n<span class=\"ansigreen\">    466</span>         <span class=\"ansigreen\">import</span> pydoc<span class=\"ansiyellow\"></span>\n<span class=\"ansigreen\">--&gt; 467</span><span class=\"ansiyellow\">         </span><span class=\"ansigreen\">return</span> pydoc<span class=\"ansiyellow\">.</span>help<span class=\"ansiyellow\">(</span><span class=\"ansiyellow\">*</span>args<span class=\"ansiyellow\">,</span> <span class=\"ansiyellow\">**</span>kwds<span class=\"ansiyellow\">)</span><span class=\"ansiyellow\"></span>\n<span class=\"ansigreen\">    468</span> <span class=\"ansiyellow\"></span>\n<span class=\"ansigreen\">    469</span> <span class=\"ansigreen\">def</span> sethelper<span class=\"ansiyellow\">(</span><span class=\"ansiyellow\">)</span><span class=\"ansiyellow\">:</span><span class=\"ansiyellow\"></span>\n", 
        "<span class=\"ansigreen\">/home/bryan/Downloads/epd-7.2-2-rh3-x86_64/lib/python2.7/pydoc.pyc</span> in <span class=\"ansicyan\">__call__</span><span class=\"ansiblue\">(self, request)</span>\n<span class=\"ansigreen\">   1728</span>         <span class=\"ansigreen\">else</span><span class=\"ansiyellow\">:</span><span class=\"ansiyellow\"></span>\n<span class=\"ansigreen\">   1729</span>             self<span class=\"ansiyellow\">.</span>intro<span class=\"ansiyellow\">(</span><span class=\"ansiyellow\">)</span><span class=\"ansiyellow\"></span>\n<span class=\"ansigreen\">-&gt; 1730</span><span class=\"ansiyellow\">             </span>self<span class=\"ansiyellow\">.</span>interact<span class=\"ansiyellow\">(</span><span class=\"ansiyellow\">)</span><span class=\"ansiyellow\"></span>\n<span class=\"ansigreen\">   1731</span>             self.output.write(&apos;&apos;&apos;\n<span class=\"ansigreen\">   1732</span> You are now leaving help <span class=\"ansigreen\">and</span> returning to the Python interpreter<span class=\"ansiyellow\">.</span><span class=\"ansiyellow\"></span>\n", 
        "<span class=\"ansigreen\">/home/bryan/Downloads/epd-7.2-2-rh3-x86_64/lib/python2.7/pydoc.pyc</span> in <span class=\"ansicyan\">interact</span><span class=\"ansiblue\">(self)</span>\n<span class=\"ansigreen\">   1740</span>         <span class=\"ansigreen\">while</span> True<span class=\"ansiyellow\">:</span><span class=\"ansiyellow\"></span>\n<span class=\"ansigreen\">   1741</span>             <span class=\"ansigreen\">try</span><span class=\"ansiyellow\">:</span><span class=\"ansiyellow\"></span>\n<span class=\"ansigreen\">-&gt; 1742</span><span class=\"ansiyellow\">                 </span>request <span class=\"ansiyellow\">=</span> self<span class=\"ansiyellow\">.</span>getline<span class=\"ansiyellow\">(</span><span class=\"ansiblue\">&apos;help&gt; &apos;</span><span class=\"ansiyellow\">)</span><span class=\"ansiyellow\"></span>\n<span class=\"ansigreen\">   1743</span>                 <span class=\"ansigreen\">if</span> <span class=\"ansigreen\">not</span> request<span class=\"ansiyellow\">:</span> <span class=\"ansigreen\">break</span><span class=\"ansiyellow\"></span>\n<span class=\"ansigreen\">   1744</span>             <span class=\"ansigreen\">except</span> <span class=\"ansiyellow\">(</span>KeyboardInterrupt<span class=\"ansiyellow\">,</span> EOFError<span class=\"ansiyellow\">)</span><span class=\"ansiyellow\">:</span><span class=\"ansiyellow\"></span>\n", 
        "<span class=\"ansigreen\">/home/bryan/Downloads/epd-7.2-2-rh3-x86_64/lib/python2.7/pydoc.pyc</span> in <span class=\"ansicyan\">getline</span><span class=\"ansiblue\">(self, prompt)</span>\n<span class=\"ansigreen\">   1751</span>         <span class=\"ansiblue\">&quot;&quot;&quot;Read one line, using raw_input when available.&quot;&quot;&quot;</span><span class=\"ansiyellow\"></span>\n<span class=\"ansigreen\">   1752</span>         <span class=\"ansigreen\">if</span> self<span class=\"ansiyellow\">.</span>input <span class=\"ansigreen\">is</span> sys<span class=\"ansiyellow\">.</span>stdin<span class=\"ansiyellow\">:</span><span class=\"ansiyellow\"></span>\n<span class=\"ansigreen\">-&gt; 1753</span><span class=\"ansiyellow\">             </span><span class=\"ansigreen\">return</span> raw_input<span class=\"ansiyellow\">(</span>prompt<span class=\"ansiyellow\">)</span><span class=\"ansiyellow\"></span>\n<span class=\"ansigreen\">   1754</span>         <span class=\"ansigreen\">else</span><span class=\"ansiyellow\">:</span><span class=\"ansiyellow\"></span>\n<span class=\"ansigreen\">   1755</span>             self<span class=\"ansiyellow\">.</span>output<span class=\"ansiyellow\">.</span>write<span class=\"ansiyellow\">(</span>prompt<span class=\"ansiyellow\">)</span><span class=\"ansiyellow\"></span>\n", 
        "<span class=\"ansigreen\">/home/bryan/ipython/IPython/zmq/ipkernel.py</span> in <span class=\"ansicyan\">&lt;lambda&gt;</span><span class=\"ansiblue\">(prompt)</span>\n<span class=\"ansigreen\">    251</span>             raw_input <span class=\"ansiyellow\">=</span> <span class=\"ansigreen\">lambda</span> prompt<span class=\"ansiyellow\">=</span><span class=\"ansiblue\">&apos;&apos;</span><span class=\"ansiyellow\">:</span> self<span class=\"ansiyellow\">.</span>_raw_input<span class=\"ansiyellow\">(</span>prompt<span class=\"ansiyellow\">,</span> ident<span class=\"ansiyellow\">,</span> parent<span class=\"ansiyellow\">)</span><span class=\"ansiyellow\"></span>\n<span class=\"ansigreen\">    252</span>         <span class=\"ansigreen\">else</span><span class=\"ansiyellow\">:</span><span class=\"ansiyellow\"></span>\n<span class=\"ansigreen\">--&gt; 253</span><span class=\"ansiyellow\">             </span>raw_input <span class=\"ansiyellow\">=</span> <span class=\"ansigreen\">lambda</span> prompt<span class=\"ansiyellow\">=</span><span class=\"ansiblue\">&apos;&apos;</span> <span class=\"ansiyellow\">:</span> self<span class=\"ansiyellow\">.</span>_no_raw_input<span class=\"ansiyellow\">(</span><span class=\"ansiyellow\">)</span><span class=\"ansiyellow\"></span>\n<span class=\"ansigreen\">    254</span> <span class=\"ansiyellow\"></span>\n<span class=\"ansigreen\">    255</span>         <span class=\"ansigreen\">if</span> py3compat<span class=\"ansiyellow\">.</span>PY3<span class=\"ansiyellow\">:</span><span class=\"ansiyellow\"></span>\n", 
        "<span class=\"ansigreen\">/home/bryan/ipython/IPython/zmq/ipkernel.py</span> in <span class=\"ansicyan\">_no_raw_input</span><span class=\"ansiblue\">(self)</span>\n<span class=\"ansigreen\">    444</span>         &quot;&quot;&quot;Raise StdinNotImplentedError if active frontend doesn&apos;t support\n<span class=\"ansigreen\">    445</span>         stdin.&quot;&quot;&quot;\n<span class=\"ansigreen\">--&gt; 446</span><span class=\"ansiyellow\">         raise StdinNotImplementedError(&quot;raw_input was called, but this &quot;\n</span><span class=\"ansigreen\">    447</span>                                        &quot;frontend does not support stdin.&quot;) \n<span class=\"ansigreen\">    448</span> <span class=\"ansiyellow\"></span>\n", 
        "<span class=\"ansired\">StdinNotImplementedError</span>: raw_input was called, but this frontend does not support stdin."
       ]
      }, 
      {
       "output_type": "stream", 
       "stream": "stdout", 
       "text": [
        "", 
        "Welcome to Python 2.7!  This is the online help utility.", 
        "", 
        "If this is your first time using Python, you should definitely check out", 
        "the tutorial on the Internet at http://docs.python.org/tutorial/.", 
        "", 
        "Enter the name of any keyword, or topic to get help on writing Python", 
        "programs and using Python.  To quit this help utility and return to the", 
        "interpreter, just type &quot;quit&quot;.", 
        "", 
        "To get a list of available modules, keywords, or topics, type &quot;keywords&quot;,", 
        "or &quot;topics&quot;.", 
        ""
       ]
      }
     ], 
     "prompt_number": 1
    }, 
    {
     "cell_type": "code", 
     "collapsed": false, 
     "input": [
      "10/1.61"
     ], 
     "language": "python", 
     "outputs": [
      {
       "output_type": "pyout", 
       "prompt_number": 2, 
       "text": [
        "6.211180124223602"
       ]
      }
     ], 
     "prompt_number": 2
    }, 
    {
     "cell_type": "code", 
     "collapsed": true, 
     "input": [
      "x = 10/1.61"
     ], 
     "language": "python", 
     "outputs": [], 
     "prompt_number": 3
    }, 
    {
     "cell_type": "code", 
     "collapsed": false, 
     "input": [
      "x*2"
     ], 
     "language": "python", 
     "outputs": [
      {
       "output_type": "pyout", 
       "prompt_number": 4, 
       "text": [
        "12.422360248447204"
       ]
      }
     ], 
     "prompt_number": 4
    }, 
    {
     "cell_type": "code", 
     "collapsed": true, 
     "input": [
      "y = x/43.5"
     ], 
     "language": "python", 
     "outputs": [], 
     "prompt_number": 5
    }, 
    {
     "cell_type": "code", 
     "collapsed": false, 
     "input": [
      "y"
     ], 
     "language": "python", 
     "outputs": [
      {
       "output_type": "pyout", 
       "prompt_number": 6, 
       "text": [
        "0.14278574998215177"
       ]
      }
     ], 
     "prompt_number": 6
    }, 
    {
     "cell_type": "code", 
     "collapsed": false, 
     "input": [
      "y*60"
     ], 
     "language": "python", 
     "outputs": [
      {
       "output_type": "pyout", 
       "prompt_number": 7, 
       "text": [
        "8.567144998929106"
       ]
      }
     ], 
     "prompt_number": 7
    }, 
    {
     "cell_type": "code", 
     "collapsed": false, 
     "input": [
      "43.30/x"
     ], 
     "language": "python", 
     "outputs": [
      {
       "output_type": "pyout", 
       "prompt_number": 8, 
       "text": [
        "6.9713"
       ]
      }
     ], 
     "prompt_number": 8
    }, 
    {
     "cell_type": "code", 
     "collapsed": true, 
     "input": [], 
     "language": "python", 
     "outputs": [], 
     "prompt_number": "&nbsp;"
    }
   ]
  }
 ]
}