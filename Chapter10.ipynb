{
 "metadata": {
  "name": "Chapter10"
 }, 
 "nbformat": 2, 
 "worksheets": [
  {
   "cells": [
    {
     "cell_type": "code", 
     "collapsed": false, 
     "input": [
      "def csum(list):", 
      "    csum = []", 
      "    S = 0", 
      "    for value in list:   ", 
      "        S += value  ", 
      "        csum.append(S)", 
      "    print csum"
     ], 
     "language": "python", 
     "outputs": [], 
     "prompt_number": 69
    }, 
    {
     "cell_type": "code", 
     "collapsed": false, 
     "input": [
      "csum([10, 12, 13])"
     ], 
     "language": "python", 
     "outputs": [], 
     "prompt_number": 70
    }, 
    {
     "cell_type": "code", 
     "collapsed": true, 
     "input": [
      "def chop(t):", 
      "    del t[0]", 
      "    del t[len(t)-1]", 
      "    print t", 
      ""
     ], 
     "language": "python", 
     "outputs": [], 
     "prompt_number": 89
    }, 
    {
     "cell_type": "code", 
     "collapsed": false, 
     "input": [
      "chop(['a', 'b', 'c', 'd',])"
     ], 
     "language": "python", 
     "outputs": [], 
     "prompt_number": 90
    }, 
    {
     "cell_type": "code", 
     "collapsed": false, 
     "input": [
      "def is_sorted(t):", 
      "    for i in range(len(t)): ", 
      "        if t[i] < t[i+1]:", 
      "           return True", 
      "        else: ", 
      "            return False", 
      "        "
     ], 
     "language": "python", 
     "outputs": [], 
     "prompt_number": 102
    }, 
    {
     "cell_type": "code", 
     "collapsed": false, 
     "input": [
      "is_sorted(['b', 'a])"
     ], 
     "language": "python", 
     "outputs": [], 
     "prompt_number": 107
    }, 
    {
     "cell_type": "code", 
     "collapsed": true, 
     "input": [
      "def is_anagram(word1, word2):", 
      "    a = list(word1)", 
      "    b = list(word2) ", 
      "    c = a.sort()", 
      "    d = b.sort()", 
      "    if c is d:", 
      "        print 'is anagram'"
     ], 
     "language": "python", 
     "outputs": [], 
     "prompt_number": 121
    }, 
    {
     "cell_type": "code", 
     "collapsed": false, 
     "input": [
      "is_anagram('word', 'dorw')"
     ], 
     "language": "python", 
     "outputs": [], 
     "prompt_number": 120
    }, 
    {
     "cell_type": "code", 
     "collapsed": true, 
     "input": [], 
     "language": "python", 
     "outputs": [], 
     "prompt_number": "&nbsp;"
    }
   ]
  }
 ]
}